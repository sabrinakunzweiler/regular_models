{
 "cells": [
  {
   "cell_type": "markdown",
   "metadata": {
    "collapsed": false
   },
   "source": [
    "# Computation of the Lattice of Integral Differential Forms\n",
    "In this Jupyter-Notebook we show how to use our implementation to compute the lattice of integral differential forms for superelliptic curves. The first part is dedicated to the examples in [KunzweilerWewers20]. In the second part, we look at some more general situations. And finally, we explain an application to the computation of the *hyperelliptic discriminant*."
   ]
  },
  {
   "cell_type": "code",
   "execution_count": 1,
   "metadata": {
    "collapsed": false
   },
   "outputs": [
   ],
   "source": [
    "load('regular_models/superelliptic_curves.py')\n"
   ]
  },
  {
   "cell_type": "markdown",
   "metadata": {
    "collapsed": false
   },
   "source": [
    "## Examples from the manuscript\n",
    "\n",
    "Let us first look at **Example 5.2** from [KunzweilerWewers20].\n",
    "\n",
    "We consider the hyperelliptic curve\n",
    "$$ Y: y^2 = (x^2-5)^3-5^5$$\n",
    "defined over $\\mathbb{Q}_5$.\n",
    "\n",
    "The input for our algorithm in this case is:\n",
    "* the polynomial $f = (x^2-5)^3-5^5$,\n",
    "* the exponent $n=2$ of $y$,\n",
    "* the $5$-adic valuation $v_5$.\n",
    "\n",
    "The output is:\n",
    "* the basis [x,5]. In this implementation the space of differentials is viewed as a subspace of the function space of $Y$ via the embedding $\\omega \\mapsto \\omega / \\eta$ with $\\eta = \\frac{dx}{y^{n-1}}$. This means that $$(x\\frac{dx}{y}, 5 \\frac{dx}{y})$$ is a basis for the lattice of integral differentials of $Y$."
   ]
  },
  {
   "cell_type": "code",
   "execution_count": 3,
   "metadata": {
    "collapsed": false
   },
   "outputs": [
    {
     "data": {
      "text/plain": [
       "the lattice with basis [x, 5]"
      ]
     },
     "execution_count": 3,
     "metadata": {
     },
     "output_type": "execute_result"
    }
   ],
   "source": [
    "R.<x> = QQ[]\n",
    "f = (x^2-5)^3-5^5\n",
    "n=2\n",
    "v5 = QQ.valuation(5)\n",
    "M = integral_differentials(f,n,v5); M"
   ]
  },
  {
   "cell_type": "markdown",
   "metadata": {
    "collapsed": false
   },
   "source": [
    "Modifying the above computation by setting $n=3$, we compute the lattice of integral differential forms for the superelliptic curve \n",
    "$$y^3 = (x^2-5)^3-5^5.$$\n",
    "This is **Example 5.3** in [KunzweilerWewers20].\n"
   ]
  },
  {
   "cell_type": "code",
   "execution_count": 3,
   "metadata": {
    "collapsed": false
   },
   "outputs": [
    {
     "data": {
      "text/plain": [
       "the lattice with basis [x^2 - 5, y, 5*x, 25]"
      ]
     },
     "execution_count": 3,
     "metadata": {
     },
     "output_type": "execute_result"
    }
   ],
   "source": [
    "M = integral_differentials(f,3,v5); M"
   ]
  },
  {
   "cell_type": "markdown",
   "metadata": {
    "collapsed": false
   },
   "source": [
    "**Example 5.1.** in [KunzweilerWewers20] illustrates the first step in the algorithm underlying the computation of the integral differentials. This step consists in computing a model $X$ of the projective line with the property that the model obtained by taking the normalisation of $X$ in the function field of the superelliptic curve has only rational singularities.\n",
    "\n",
    "This step does not depend on the exponent $n$. As input we only need \n",
    "* the polynomial $f$,\n",
    "* the valuation $v_5$. \n",
    "\n",
    "\n"
   ]
  },
  {
   "cell_type": "code",
   "execution_count": 3,
   "metadata": {
    "collapsed": false
   },
   "outputs": [
    {
     "name": "stdout",
     "output_type": "stream",
     "text": [
      "0 :  Point of type II on Berkovich line, corresponding to v(x) >= 0\n",
      "1 :  Point of type II on Berkovich line, corresponding to v(x) >= 1/2\n",
      "2 :  Point of type II on Berkovich line, corresponding to v(x^2 - 5) >= 3/2\n",
      "3 :  Point of type II on Berkovich line, corresponding to v(x^2 - 5) >= 5/3\n",
      "4 :  Point of type I on Berkovich line given by x^6 - 15*x^4 + 75*x^2 - 3250 = 0\n",
      "5 :  Point of type II on Berkovich line, corresponding to v(x^2 - 5) >= 7/4\n",
      "6 :  Point of type II on Berkovich line, corresponding to v(x^2 - 5) >= 2\n",
      "7 :  Point of type II on Berkovich line, corresponding to v(x) >= 1\n",
      "8 :  The point at infinity on the Berkovich line\n"
     ]
    },
    {
     "data": {
      "image/png": "[encoded data removed]",
      "text/plain": [
       "Graphics object consisting of 18 graphics primitives"
      ]
     },
     "execution_count": 3,
     "metadata": {
     },
     "output_type": "execute_result"
    }
   ],
   "source": [
    "load('models_of_projective_line.py')\n",
    "X = minimal_rnc_model(f,v5); X\n",
    "X.show_tree()\n"
   ]
  },
  {
   "cell_type": "markdown",
   "metadata": {
    "collapsed": false
   },
   "source": [
    "## Further Examples\n",
    "\n",
    "The implementation works in different settings.\n",
    "\n",
    "### Different Residue Characteristics\n",
    "The only restriction concerning the residue characteristic is that it must not divide the exponent $n$. \n",
    "\n",
    "For example we can compute the lattice of integral differentials for the superelliptic curve defined by \n",
    "$$y^n = x^4-2^3 \\quad \\text{over }\\mathbb{Q}_2,$$\n",
    "if and only if $2 \\nmid n$."
   ]
  },
  {
   "cell_type": "code",
   "execution_count": 8,
   "metadata": {
    "collapsed": false
   },
   "outputs": [
   ],
   "source": [
    "R.<x> = QQ[]\n",
    "f = x^4-2^3\n",
    "v2 = QQ.valuation(2)\n",
    "\n",
    "M3 = integral_differentials(f,3,v2);\n",
    "print(M3)\n",
    "M5 = integral_differentials(f,5,v2);\n",
    "print(M5)\n",
    "M7 = integral_differentials(f,7,v2);\n",
    "print(M7)"
   ]
  },
  {
   "cell_type": "markdown",
   "metadata": {
    "collapsed": false
   },
   "source": [
    "### Extensions of $\\mathbb{Q}_p$\n",
    "\n",
    "We can also work over extensions of the $p$-adic numbers. \n",
    "In the following we compute the integral differentials for the hyperelliptic curve defined by \n",
    "$$y^2-x^6+3^9$$\n",
    "over $\\mathbb{Q}_3$ and over $\\mathbb{Q}_3(\\sqrt{3})$ respectively."
   ]
  },
  {
   "cell_type": "code",
   "execution_count": 5,
   "metadata": {
    "collapsed": false
   },
   "outputs": [
    {
     "name": "stdout",
     "output_type": "stream",
     "text": [
      "the lattice with basis [3*x, 27]\n"
     ]
    },
    {
     "name": "stdout",
     "output_type": "stream",
     "text": [
      "the lattice with basis [3*sqrt3*x, 27]\n"
     ]
    }
   ],
   "source": [
    "R.<x> = QQ[]\n",
    "f = x^6-3^9\n",
    "v3 = QQ.valuation(3)\n",
    "M = integral_differentials(f,2,v3)\n",
    "print(M)\n",
    "\n",
    "L.<sqrt3> = NumberField(x^2-3)\n",
    "S.<x> = L[]\n",
    "vL3 = v3.extension(L)\n",
    "ML = integral_differentials(S(f),2,vL3)\n",
    "print(ML)"
   ]
  },
  {
   "cell_type": "markdown",
   "metadata": {
    "collapsed": false
   },
   "source": [
    "## The hyperelliptic discriminant\n",
    "\n",
    "Assuming that $p \\neq 2$, the implementation can also be used to compute the so-called *hyperelliptic discriminant* $\\Lambda$.\n",
    "\n",
    "Let $Y$ be a hyperelliptic curve of genus $g$ over a local field $K$, defined by some equation of the form \n",
    "$Y: y^2 = f(x).$ We write $\\Delta$ for the discriminant of this equation and $\\omega = \\frac{dx}{y} \\land \\dots \\land x^{g-1}\\frac{dx}{y}$. We call \n",
    "$$\\Lambda := \\Delta^{g} \\cdot \\omega^{\\otimes 8g+4}$$ the *hyperelliptic discriminant*. This is a canonical element of the curve. \n",
    "By the order of the hyperelliptic discriminant, $\\text{ord}(\\Lambda)$, we mean the order of vanishing of  $\\Lambda \\in (\\det M)^{\\otimes 8g+4}$ at the prime ideal of $O_K$, where $M$ denotes the lattice of integral differentials.\n",
    "\n",
    "In the following, we compute the order of the hyperelliptic discriminant of the genus-$2$ curve\n",
    "$$Y:y^2 =  (x^3-7^7) \\cdot (x^3-1) \\quad \\text{over } \\mathbb{Q}_7.$$\n"
   ]
  },
  {
   "cell_type": "code",
   "execution_count": 7,
   "metadata": {
    "collapsed": false
   },
   "outputs": [
    {
     "name": "stdout",
     "output_type": "stream",
     "text": [
      "8\n"
     ]
    },
    {
     "data": {
      "text/plain": [
       "True"
      ]
     },
     "execution_count": 7,
     "metadata": {
     },
     "output_type": "execute_result"
    }
   ],
   "source": [
    "R.<x> = QQ[]\n",
    "f = (x^3-7^7)*(x^3-1)\n",
    "v7 = QQ.valuation(7)\n",
    "a = order_hyperelliptic_discriminant(f,v7)\n",
    "print(a)\n",
    "g = 2\n",
    "a == g * v7(f.discriminant()) - (8*g+4)*v7(covolume(integral_differentials(f,2,v7)))"
   ]
  },
  {
   "cell_type": "markdown",
   "metadata": {
    "collapsed": false
   },
   "source": [
    "The output above means that $7^{-8} \\cdot \\Lambda$ is a generator for $(\\det M )^{\\otimes 8g+4}$.\n",
    "\n",
    "Also, note that in general the $\\text{ord}(\\Lambda)/g$ is smaller than the valuation of the discriminant of the equation. Moreover $\\text{ord}(\\Lambda)/g$ is known to be an upper bound for the Artin conductor in the case of semistable reduction [Maugeais03] and in the case $g=2$ [Liu94]."
   ]
  },
  {
   "cell_type": "markdown",
   "metadata": {
    "collapsed": false
   },
   "source": [
    "\n",
    "**Literature**\n",
    "\n",
    "[Kunzweiler20] S. Kunzweiler, Differential forms on hyperelliptic curves with semistable reduction. Research in Number Theory.\n",
    "\n",
    "[KunzweilerWewers20] S. Kunzweiler and S. Wewers, Integral differential forms for superelliptic curves. ArXiv preprint.\n",
    "\n",
    "[Liu94] Q.Liu, Conducteur et discriminant minimal de courbes de genre 2. Compositio Mathematica.\n",
    "\n",
    "[Maugeais03] S. Maugeais, Relevementdes revetements p-cycliques des courbes rationnelles semistables. Mathematische Annalen.\n"
   ]
  },
  {
   "cell_type": "code",
   "execution_count": 0,
   "metadata": {
    "collapsed": false
   },
   "outputs": [
   ],
   "source": [
   ]
  }
 ],
 "metadata": {
  "kernelspec": {
   "display_name": "SageMath 9.2",
   "language": "sagemath",
   "metadata": {
    "cocalc": {
     "description": "Open-source mathematical software system",
     "priority": 10,
     "url": "https://www.sagemath.org/"
    }
   },
   "name": "sage-9.2",
   "resource_dir": "/ext/jupyter/kernels/sage-9.2"
  },
  "language_info": {
   "codemirror_mode": {
    "name": "ipython",
    "version": 3
   },
   "file_extension": ".py",
   "mimetype": "text/x-python",
   "name": "python",
   "nbconvert_exporter": "python",
   "pygments_lexer": "ipython3",
   "version": "3.8.5"
  }
 },
 "nbformat": 4,
 "nbformat_minor": 4
}